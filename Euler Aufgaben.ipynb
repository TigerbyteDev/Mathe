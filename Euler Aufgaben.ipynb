{
 "cells": [
  {
   "cell_type": "code",
   "execution_count": 31,
   "id": "f596637a",
   "metadata": {
    "pycharm": {
     "name": "#%%\n"
    }
   },
   "outputs": [],
   "source": [
    "# Alle Vielfache von 3 oder 5\n",
    "def multiplyOf3Or5(limit):\n",
    "    numbers = []\n",
    "    for number in range(limit):\n",
    "        if (number % 3) == 0 or (number % 5) == 0:\n",
    "            numbers.append(number)\n",
    "            \n",
    "    return numbers"
   ]
  },
  {
   "cell_type": "code",
   "execution_count": 32,
   "id": "fe51dab7",
   "metadata": {
    "pycharm": {
     "name": "#%%\n"
    }
   },
   "outputs": [
    {
     "name": "stdout",
     "output_type": "stream",
     "text": [
      "233168\n"
     ]
    }
   ],
   "source": [
    "# Problem 1\n",
    "# Die Summe aller Vielfache von 3 oder 5 unter 1000\n",
    "print(sum(multiplyOf3Or5(1000)))"
   ]
  },
  {
   "cell_type": "code",
   "execution_count": 58,
   "id": "9d4e15e5",
   "metadata": {
    "pycharm": {
     "name": "#%%\n"
    }
   },
   "outputs": [],
   "source": [
    "# Alle geraden Fibonaccizahlen\n",
    "def geradeFibonaccizahlen(limit):\n",
    "    alleGeraden = []\n",
    "    def fibonacci(vor, aktuell):\n",
    "        neu = vor + aktuell\n",
    "        if neu > limit:\n",
    "            return alleGeraden\n",
    "        if not (neu % 2):\n",
    "            alleGeraden.append(neu)\n",
    "        \n",
    "        fibonacci(aktuell, neu)\n",
    "    fibonacci(1,1)\n",
    "    \n",
    "    return alleGeraden"
   ]
  },
  {
   "cell_type": "code",
   "execution_count": 59,
   "id": "8c7192a2",
   "metadata": {
    "pycharm": {
     "name": "#%%\n"
    }
   },
   "outputs": [
    {
     "name": "stdout",
     "output_type": "stream",
     "text": [
      "4613732\n"
     ]
    }
   ],
   "source": [
    "# Problem 2\n",
    "# Die Summer alles Fibonaccizahlen unter 4mio\n",
    "print(sum(geradeFibonaccizahlen(4000000)))"
   ]
  },
  {
   "cell_type": "code",
   "execution_count": 54,
   "id": "921a5c75",
   "metadata": {
    "pycharm": {
     "name": "#%%\n"
    }
   },
   "outputs": [],
   "source": [
    "# Alle Zahlen mit ihrer eigenen Potenz\n",
    "def zahlenMitSichSelbstPotenziert(limit):\n",
    "    ergebnis = []\n",
    "    for number in range(1, limit):\n",
    "        ergebnis.append(number**number)\n",
    "        \n",
    "    return ergebnis"
   ]
  },
  {
   "cell_type": "code",
   "execution_count": 55,
   "id": "68c61bac",
   "metadata": {
    "pycharm": {
     "name": "#%%\n"
    }
   },
   "outputs": [],
   "source": [
    "# Bekomme die hintene Zeichen eines Strings\n",
    "def zeichenVonHinten(anzahl, string):\n",
    "    ausgabe = \"\"\n",
    "    for i in range(anzahl, 0, -1):\n",
    "        ausgabe += string[-i]\n",
    "    \n",
    "    return ausgabe"
   ]
  },
  {
   "cell_type": "code",
   "execution_count": 56,
   "id": "0cfc743e",
   "metadata": {
    "pycharm": {
     "name": "#%%\n"
    }
   },
   "outputs": [
    {
     "name": "stdout",
     "output_type": "stream",
     "text": [
      "9110846700\n"
     ]
    }
   ],
   "source": [
    "# Problem 3\n",
    "# Die letzten Ziffern der Zahlenreihe 1^1 + 2^2 + ... + 1000^1000\n",
    "potenzen = zahlenMitSichSelbstPotenziert(1000)\n",
    "ausgabe = zeichenVonHinten(10, str(sum(potenzen)))\n",
    "\n",
    "print(ausgabe)"
   ]
  },
  {
   "cell_type": "code",
   "execution_count": 14,
   "id": "b8fd2d14",
   "metadata": {
    "pycharm": {
     "name": "#%%\n"
    }
   },
   "outputs": [],
   "source": [
    "def teste89Oder1(zahl):\n",
    "    zahl = str(zahl)\n",
    "    neueZahl = 0\n",
    "    for ziffer in zahl:\n",
    "        neueZahl += int(ziffer)**2\n",
    "        \n",
    "    return neueZahl"
   ]
  },
  {
   "cell_type": "code",
   "execution_count": 18,
   "id": "52fadd02",
   "metadata": {
    "pycharm": {
     "name": "#%%\n"
    }
   },
   "outputs": [],
   "source": [
    "def erreicht89(zahl):\n",
    "    test = teste89Oder1(zahl)\n",
    "    status = test == 89\n",
    "    \n",
    "    if not (test == 89 or test == 1):\n",
    "        status = erreicht89(test)\n",
    "    \n",
    "    return status"
   ]
  },
  {
   "cell_type": "code",
   "execution_count": 24,
   "id": "432894f3",
   "metadata": {
    "pycharm": {
     "name": "#%%\n"
    }
   },
   "outputs": [
    {
     "name": "stdout",
     "output_type": "stream",
     "text": [
      "8581146\n"
     ]
    }
   ],
   "source": [
    "# Problem 92\n",
    "count = 0\n",
    "for zahl in range(1, 10000000):\n",
    "    status = erreicht89(zahl)\n",
    "    count += int(status)\n",
    "\n",
    "print(count)"
   ]
  },
  {
   "cell_type": "code",
   "execution_count": 8,
   "id": "f8b9270d",
   "metadata": {
    "pycharm": {
     "name": "#%%\n"
    }
   },
   "outputs": [],
   "source": [
    "import re\n",
    "regex = re.compile('1[0-9]2[0-9]3[0-9]4[0-9]5[0-9]6[0-9]7[0-9]8[0-9]9[0-9]0')\n",
    "def checkNumber(nummer):\n",
    "    nummer = str(nummer)\n",
    "    test = regex.match(nummer)\n",
    "\n",
    "    if test != None:\n",
    "        return True\n",
    "    else:\n",
    "        return False"
   ]
  },
  {
   "cell_type": "code",
   "execution_count": null,
   "id": "531b155d",
   "metadata": {
    "pycharm": {
     "name": "#%%\n",
     "is_executing": true
    }
   },
   "outputs": [],
   "source": [
    "# Problem 206\n",
    "zahl = 4\n",
    "print(checkNumber(1929374254627488900))\n",
    "\n",
    "while (zahl < 1389019180):\n",
    "    status = checkNumber(zahl**2)\n",
    "    if status:\n",
    "        break\n",
    "    else:\n",
    "        zahl += 10\n",
    "\n",
    "print(zahl)"
   ]
  },
  {
   "cell_type": "code",
   "execution_count": null,
   "id": "4b0d1da7",
   "metadata": {
    "pycharm": {
     "name": "#%%\n"
    }
   },
   "outputs": [],
   "source": [
    "        skip = 0\n",
    "        cache = nummer[1]\n",
    "        status = True\n",
    "        for ziffer in nummer:\n",
    "            if skip:\n",
    "                skip = 0\n",
    "                if cache != ziffer:\n",
    "                    status = False\n",
    "                    break\n",
    "            else:\n",
    "                skip = 1"
   ]
  },
  {
   "cell_type": "code",
   "execution_count": null,
   "id": "9baf0394",
   "metadata": {
    "pycharm": {
     "name": "#%%\n"
    }
   },
   "outputs": [],
   "source": []
  }
 ],
 "metadata": {
  "kernelspec": {
   "display_name": "Python 3 (ipykernel)",
   "language": "python",
   "name": "python3"
  },
  "language_info": {
   "codemirror_mode": {
    "name": "ipython",
    "version": 3
   },
   "file_extension": ".py",
   "mimetype": "text/x-python",
   "name": "python",
   "nbconvert_exporter": "python",
   "pygments_lexer": "ipython3",
   "version": "3.8.10"
  }
 },
 "nbformat": 4,
 "nbformat_minor": 5
}